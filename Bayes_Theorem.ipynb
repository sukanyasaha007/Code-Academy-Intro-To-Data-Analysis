{
 "cells": [
  {
   "cell_type": "markdown",
   "metadata": {},
   "source": [
    "# Introduction to Bayes' Theorem\n",
    "\n",
    "In this lesson, we'll learn about Bayes' Theorem. Bayes' Theorem is the basis of a branch of statistics called Bayesian Statistics, where we take prior knowledge into account before calculating new probabilities.\n",
    "\n",
    "Before we learn this theorem, we'll need to review independence and conditional probability.\n",
    "\n",
    "By the end of this lesson, you'll be able to solve simple problems involving prior knowledge.\n",
    "\n",
    "## Independent Events\n",
    "\n",
    "The ability to determine whether two events are independent is an important skill for statistics.\n",
    "\n",
    "If two events are independent, then the occurrence of one event does not affect the probability of the other event. Here are some examples of independent events:\n",
    "\n",
    "* I wear a blue shirt; my co-worker wears a blue shirt\n",
    "* I take the subway to work; I eat a tuna sandwich for lunch\n",
    "* The NY Giants win their football game; the NY Rangers win their hockey game\n",
    "\n",
    "If two events are dependent, then when one event occurs, the probability of the other event occurring changes in a predictable way.\n",
    "\n",
    "Here are some examples of dependent events:\n",
    "\n",
    "* It rains on Tuesday; I carry an umbrella on Tuesday\n",
    "* I eat spaghetti; I have a red stain on my shirt\n",
    "* I wear sunglasses; I go to the beach\n",
    "\n",
    "## Conditional Probability\n",
    "\n",
    "Conditional probability is the probability that two events happen. It's easiest to calculate conditional probability when the two events are independent.\n",
    "\n",
    "Note: For the rest of this lesson, we'll be using the statistical convention that the probability of an event is written as P(event).\n",
    "\n",
    "If the probability of Event A is P(A) and the probability of Event B is P(B) and the two events are independent, then the probability of both events occurring is the product of the probabilities:\n",
    "\n",
    "`P(A ∩ B) = P(A) × P(B)`\n",
    "\n",
    "(The symbol ∩ just means \"and\", so P(A ∩ B) means probability that both A and B happen)\n",
    "\n",
    "For instance, suppose we are rolling a pair of dice, and want to know the probability of rolling two sixes. Each die has six sides, so the probability of rolling a six is 1/6. Each die is independent (i.e., rolling one six does not increase or decrease our chance of rolling a second six), so\n",
    "\n",
    "`P(6 ∩ 6) = P(6) × P(6) = 1/6 × 1/6 = 1/36`\n",
    "\n",
    "## Testing for a Rare Disease\n",
    "\n",
    "Suppose you are a doctor and you need to test if a patient has a certain rare disease. The test is very accurate: it's correct 99% of the time. The disease is very rare: only 1 in 100,000 patients have it.\n",
    "\n",
    "You administer the test and it comes back positive, so your patient must have the disease, right?\n",
    "\n",
    "Not necessarily. If we just consider the test, there is only a 1% chance that it is wrong, but we actually have more information: we know how rare the disease is.\n",
    "\n",
    "Given that the test came back positive, there are two possibilities:\n",
    "\n",
    "* The patient had the disease, and the test correctly diagnosed the disease\n",
    "* The patient didn't have the disease and the test incorrectly diagnosed that they had the disease.\n",
    "\n",
    "What is the probability that the patient had the disease and the test correctly diagnosed the disease?\n",
    "\n",
    "Save your answer to the variable p_disease_and_correct."
   ]
  },
  {
   "cell_type": "code",
   "execution_count": 1,
   "metadata": {},
   "outputs": [
    {
     "name": "stdout",
     "output_type": "stream",
     "text": [
      "9.9e-06\n",
      "0.0099999\n"
     ]
    }
   ],
   "source": [
    "p_disease_and_correct = 0.99 * 1/100000\n",
    "p_no_disease_and_incorrect = 0.01 * 99999/100000\n",
    "print(p_disease_and_correct)\n",
    "print(p_no_disease_and_incorrect)"
   ]
  },
  {
   "cell_type": "markdown",
   "metadata": {},
   "source": [
    "## Bayes Theorem\n",
    "\n",
    "In the previous exercise, we determined two probabilities:\n",
    "\n",
    "* The patient had the disease, and the test correctly diagnosed the disease ≈ 0.00001\n",
    "* The patient didn't have the disease and the test incorrectly diagnosed that they had the disease ≈ 0.01\n",
    "\n",
    "Both events are rare, but we can see that it was about 1,000 times more likely than the test was incorrect than that the patient had this rare disease.\n",
    "\n",
    "We're able to come to this conclusion because we had more information than just the accuracy of the test; we also knew the prevalence of this disease. That extra information about how we expect the world to work is called a prior.\n",
    "\n",
    "When we only use the first piece of information (the result of the test), it's called a Frequentist Approach to statistics. When we incorporate our prior, it's called a Bayesian Approach.\n",
    "\n",
    "In statistics, if we have two events (A and B), we write the probability that event A will happen, given that event B already happened as P(A|B). In our example, we want to find P(rare disease | positive result).\n",
    "\n",
    "We can calculate P(A|B) using Bayes' Theorem, which states:\n",
    "\n",
    "![](formula_1_black.svg)\n",
    "\n",
    "So in this case, we'd say: \n",
    "\n",
    "![](formula_2_black.svg)\n",
    "\n",
    "Calculate P(positive result | rare disease ), or the probability of a positive test result, given that a patient really has this rare disease. Save your answer (as a decimal) to p_positive_given_disease."
   ]
  },
  {
   "cell_type": "code",
   "execution_count": 3,
   "metadata": {},
   "outputs": [
    {
     "name": "stdout",
     "output_type": "stream",
     "text": [
      "1e-10\n"
     ]
    }
   ],
   "source": [
    "p_positive = 0.99\n",
    "p_rare = 1/100000\n",
    "\n",
    "p_positive_given_disease = ((p_positive * p_rare) * p_rare) / p_positive\n",
    "\n",
    "print(p_positive_given_disease)"
   ]
  },
  {
   "cell_type": "markdown",
   "metadata": {},
   "source": [
    "What is P(rare disease), the probability that a randomly selected patient has the rare disease? Save your answer to p_disease."
   ]
  },
  {
   "cell_type": "code",
   "execution_count": 7,
   "metadata": {},
   "outputs": [
    {
     "data": {
      "text/plain": [
       "1e-05"
      ]
     },
     "execution_count": 7,
     "metadata": {},
     "output_type": "execute_result"
    }
   ],
   "source": [
    "p_disease = 1/100000\n",
    "p_disease"
   ]
  },
  {
   "cell_type": "markdown",
   "metadata": {},
   "source": [
    "As we discussed previously, there are two ways to get a positive result:\n",
    "\n",
    "* The patient had the disease, and the test correctly diagnosed the disease\n",
    "* The patient didn't have the disease and the test incorrectly diagnosed that they had the disease.\n",
    "\n",
    "Using these two probabilities, calculate the total probability that a randomly selected patient receives a positive test result, P(positive result). Save your answer to the variable p_positive."
   ]
  },
  {
   "cell_type": "code",
   "execution_count": 6,
   "metadata": {},
   "outputs": [
    {
     "data": {
      "text/plain": [
       "0.99001"
      ]
     },
     "execution_count": 6,
     "metadata": {},
     "output_type": "execute_result"
    }
   ],
   "source": [
    "p_positive = 0.99 + 1/100000\n",
    "p_positive"
   ]
  },
  {
   "cell_type": "markdown",
   "metadata": {},
   "source": [
    "## Spam Filters\n",
    "\n",
    "Let's explore a different example. Email Spam filters use Bayes Theorem to determine if certain words indicate that an email is spam.\n",
    "\n",
    "Let's a take word that often appears in spam: \"enhancement\". With just 3 facts, we can make some preliminary steps towards a good spam filter:\n",
    "\n",
    "* \"enhancement\" appears in just 0.1% of non-spam emails\n",
    "* \"enhancement\" appears in 5% of spam emails\n",
    "* Spam emails make up about 20% of total emails\n",
    "\n",
    "Given that an email contains \"enhancement\", what is the probability that the email is spam?\n",
    "\n",
    "In this example, we are dealing with two probabilities:\n",
    "\n",
    "* P(enhancement) — the probability that the word \"enhancement\" appears in an email\n",
    "* P(spam) — the probability that an email is spam.\n",
    "\n",
    "Using Bayes' Theorem to answer our question means that we want to calculate P(A|B). But what are A and B referring to in this case?"
   ]
  },
  {
   "cell_type": "code",
   "execution_count": 8,
   "metadata": {},
   "outputs": [
    {
     "name": "stdout",
     "output_type": "stream",
     "text": [
      "0.9259259259259259\n"
     ]
    }
   ],
   "source": [
    "p_spam = 0.2\n",
    "p_enhancement_given_spam = 0.05\n",
    "p_enhancement = 0.05 * 0.2 + 0.001 * (1 - 0.2)\n",
    "p_spam_enhancement = p_enhancement_given_spam * p_spam / p_enhancement\n",
    "\n",
    "print(p_spam_enhancement)"
   ]
  },
  {
   "cell_type": "markdown",
   "metadata": {},
   "source": [
    "Review\n",
    "\n",
    "In this course, we learned several new definitions:\n",
    "\n",
    "* Two events are independent if the occurrence of one event does not affect the probability of the second event\n",
    "* If two events are independent then,\n",
    "* P(A ∩ B) = P(A) × P(B)\n",
    "* A prior is an additional piece of information that tells us how likely an event is\n",
    "* A frequentist approach to statistics does not incorporate a prior\n",
    "* A Bayesian approach to statistics incorporates prior knowledge\n",
    "* Bayes' Theorem is:\n",
    "\n",
    "![](bayes.png)"
   ]
  }
 ],
 "metadata": {
  "kernelspec": {
   "display_name": "Python 3",
   "language": "python",
   "name": "python3"
  },
  "language_info": {
   "codemirror_mode": {
    "name": "ipython",
    "version": 3
   },
   "file_extension": ".py",
   "mimetype": "text/x-python",
   "name": "python",
   "nbconvert_exporter": "python",
   "pygments_lexer": "ipython3",
   "version": "3.6.4"
  }
 },
 "nbformat": 4,
 "nbformat_minor": 2
}
