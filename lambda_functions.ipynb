{
 "cells": [
  {
   "cell_type": "markdown",
   "metadata": {},
   "source": [
    "# Lambda Functions\n",
    "A function is an object that is able to accept some sort of input, possibly modify it, and return some sort of output. In Python, a lambda function is a one-line shorthand for function. A simple lambda function might look like this:"
   ]
  },
  {
   "cell_type": "code",
   "execution_count": 1,
   "metadata": {},
   "outputs": [],
   "source": [
    "add_two = lambda my_input: my_input + 2"
   ]
  },
  {
   "cell_type": "markdown",
   "metadata": {},
   "source": [
    "So this code:"
   ]
  },
  {
   "cell_type": "code",
   "execution_count": 2,
   "metadata": {},
   "outputs": [
    {
     "name": "stdout",
     "output_type": "stream",
     "text": [
      "5\n",
      "102\n",
      "0\n"
     ]
    }
   ],
   "source": [
    "print(add_two(3))\n",
    "print(add_two(100))\n",
    "print(add_two(-2))"
   ]
  },
  {
   "cell_type": "raw",
   "metadata": {},
   "source": [
    "would print:\n",
    ">>> 5\n",
    ">>> 102\n",
    ">>> 0"
   ]
  },
  {
   "cell_type": "markdown",
   "metadata": {},
   "source": [
    "Let’s break this syntax down:\n",
    "\n",
    "* The function is stored in a variable called add_two\n",
    "* lambda declares that this is a lambda function (if you are familiar with normal Python functions, this is similar to how we use def to declare a function)\n",
    "* my_input is what we call the input we are passing into add_two\n",
    "* We are returning my_input plus 2 (with normal Python functions, we use the keyword return)\n",
    "\n",
    "Let's write a lambda function that checks if a string is a substring of the string “This is the master string”."
   ]
  },
  {
   "cell_type": "code",
   "execution_count": 3,
   "metadata": {},
   "outputs": [],
   "source": [
    "is_substring = lambda my_string: my_string in \"This is the master string\""
   ]
  },
  {
   "cell_type": "markdown",
   "metadata": {},
   "source": [
    "So, the code:"
   ]
  },
  {
   "cell_type": "code",
   "execution_count": 4,
   "metadata": {},
   "outputs": [
    {
     "name": "stdout",
     "output_type": "stream",
     "text": [
      "False\n",
      "False\n",
      "True\n",
      "True\n"
     ]
    }
   ],
   "source": [
    "print(is_substring('I'))\n",
    "print(is_substring('am'))\n",
    "print(is_substring('the'))\n",
    "print(is_substring('master'))"
   ]
  },
  {
   "cell_type": "raw",
   "metadata": {},
   "source": [
    "Would print:\n",
    ">>> False\n",
    ">>> False\n",
    ">>> True\n",
    ">>> True"
   ]
  },
  {
   "cell_type": "markdown",
   "metadata": {},
   "source": [
    "We might want a function that will perform differently based on different inputs. Let’s say that we have a function check_if_A_grade that outputs 'Got an A!' if a grade is at least 90, and otherwise says you 'Did not get an A…'. So, the code:\n",
    "\n",
    "```\n",
    "print(check_if_A_grade(91))\n",
    "print(check_if_A_grade(70))\n",
    "print(check_if_A_grade(20))\n",
    "```"
   ]
  },
  {
   "cell_type": "raw",
   "metadata": {},
   "source": [
    "would print:\n",
    "\n",
    ">>> 'Got an A!'\n",
    ">>> 'Did not get an A...'\n",
    ">>> 'Did not get an A...'"
   ]
  },
  {
   "cell_type": "raw",
   "metadata": {},
   "source": [
    "We can do this using an if statement in our lambda function, with syntax that looks like:\n",
    "<WHAT TO RETURN IF STATEMENT IS TRUE> if <IF STATEMENT> else <WHAT TO RETURN IF STATEMENT IS FALSE>"
   ]
  },
  {
   "cell_type": "markdown",
   "metadata": {},
   "source": [
    "So this is what our check_if_A_grade function might look like:"
   ]
  },
  {
   "cell_type": "code",
   "execution_count": null,
   "metadata": {},
   "outputs": [],
   "source": [
    "check_if_A_grade = lambda grade: 'Got an A!' if grade >= 90 else 'Did not get an A...'"
   ]
  },
  {
   "cell_type": "markdown",
   "metadata": {},
   "source": [
    "This is what this line of code does:\n",
    "\n",
    "* Declare lambda function with an input called grade (lambda grade:)\n",
    "* Return 'Got an A!' if this statement is true:\n",
    "\n",
    "`grade >= 90`\n",
    "\n",
    "* Otherwise, return 'Did not get an A...' if this statement is not true:\n",
    "\n",
    "`grade >= 90`"
   ]
  },
  {
   "cell_type": "markdown",
   "metadata": {},
   "source": [
    "Lambda functions only work if we're just doing a one line command. If we wanted to something longer, we'd need a more complex function. "
   ]
  },
  {
   "cell_type": "markdown",
   "metadata": {},
   "source": [
    "Lambda functions work with all types of variables, not just integers! Here is an example that takes in a string, assigns it to the temporary variable x, and then converts it into lowercase:"
   ]
  },
  {
   "cell_type": "code",
   "execution_count": 7,
   "metadata": {},
   "outputs": [
    {
     "name": "stdout",
     "output_type": "stream",
     "text": [
      "oh hi mark!\n"
     ]
    }
   ],
   "source": [
    "stringlambda = lambda x: x.lower()\n",
    "print(stringlambda(\"Oh Hi Mark!\"))"
   ]
  },
  {
   "cell_type": "markdown",
   "metadata": {},
   "source": [
    "We can make our lambdas more complex by using a modified form of an if statement.\n",
    "\n",
    "Suppose we want to pay workers time-and-a-half for overtime (any work above 40 hours per week). The following function will convert the number of hours into time-and-a-half hours using an if statement:"
   ]
  },
  {
   "cell_type": "code",
   "execution_count": 8,
   "metadata": {},
   "outputs": [],
   "source": [
    "def myfunction(x):\n",
    "    if x > 40:\n",
    "        return 40 + (x - 40) * 1.50\n",
    "    else:\n",
    "        return x"
   ]
  },
  {
   "cell_type": "markdown",
   "metadata": {},
   "source": [
    "Below is a lambda function that does the same thing:"
   ]
  },
  {
   "cell_type": "code",
   "execution_count": 11,
   "metadata": {},
   "outputs": [],
   "source": [
    "myfunction = lambda x: 40 + (x - 40) * 1.50 \\\n",
    "    if x > 40 else x"
   ]
  },
  {
   "cell_type": "markdown",
   "metadata": {},
   "source": [
    "In general, the syntax for an if function in a lambda function is:\n",
    "\n",
    "```\n",
    "lambda x: [OUTCOME IF TRUE] \\\n",
    "    if [CONDITIONAL] \\\n",
    "    else [OUTCOME IF FALSE]\n",
    "```"
   ]
  },
  {
   "cell_type": "markdown",
   "metadata": {},
   "source": [
    "## Applying a Lambda to a Column\n",
    "\n",
    "In Pandas, we often use lambda functions to perform complex operations on columns. For example, suppose that we want to create a column containing the email provider for each email address in the following table: \n",
    "\n",
    "<table>\n",
    "    <tr><th>Name</th><th>Email</th></tr>\n",
    "    <tr><td>JOHN SMITH</td><td>john.smith@gmail.com</td></tr>\n",
    "    <tr><td>Jane Doe</td><td>jdoe@yahoo.com</td></tr>\n",
    "    <tr><td>joe schmo</td><td>joeschmo@hotmail.com</td></tr>\n",
    "</table>\n",
    "\n",
    "We could use the following code with a lambda function:\n",
    "\n",
    "```\n",
    "df['Email Provider'] = df.Email.apply(\n",
    "    lambda x: x.split('@')[-1]\n",
    "    )\n",
    "```\n",
    "\n",
    "The result would be: \n",
    "\n",
    "<table>\n",
    "    <tr><th>Name</th><th>Email</th><th>Email Provider</th></tr>\n",
    "    <tr><td>JOHN SMITH</td><td>john.smith@gmail.com</td><td>gmail.com</td></tr>\n",
    "    <tr><td>Jane Doe</td><td>jdoe@yahoo.com</td><td>yahoo.com</td></tr>\n",
    "    <tr><td>joe schmo</td><td>joeschmo@hotmail.com</td><td>hotmail.com</td></tr>\n",
    "</table>\n",
    "\n",
    "## Applying a Lambda to a Row\n",
    "\n",
    "We can also operate on multiple columns at once. If we use apply without specifying a single column and add the argument axis=1, the input to our lambda function will be an entire row, not a column. To access particular values of the row, we use the syntax row.column_name or row[‘column_name’].\n",
    "\n",
    "Suppose we have a table representing a grocery list: \n",
    "\n",
    "<table>\n",
    "    <tr><th>Item</th><th>Price</th><th>Is taxed?</th></tr>\n",
    "    <tr><td>Apple</td><td>1.00</td><td>No</td></tr>\n",
    "    <tr><td>Milk</td><td>4.20</td><td>No</td></tr>\n",
    "    <tr><td>Paper Towels</td><td>5.00</td><td>Yes</td></tr>\n",
    "    <tr><td>Light Bulbs</td><td>3.75</td><td>Yes</td></tr>\n",
    "</table>\n",
    "\n",
    "If we want to add in the price with tax for each line, we’ll need to look at two columns: Price and Is taxed?.\n",
    "\n",
    "If Is taxed? is Yes, then we’ll want to multiply Price by 1.075 (for 7.5% sales tax).\n",
    "\n",
    "If Is taxed? is No, we’ll just have Price without multiplying it.\n",
    "\n",
    "We can create this column using a lambda function and the keyword axis=1:\n",
    "\n",
    "```\n",
    "df['Price with Tax'] = df.apply(lambda row:\n",
    "     row['Price'] * 1.075\n",
    "     if row['Is taxed?'] == 'Yes'\n",
    "     else row['Price'],\n",
    "     axis=1\n",
    ")\n",
    "```"
   ]
  }
 ],
 "metadata": {
  "kernelspec": {
   "display_name": "Python 3",
   "language": "python",
   "name": "python3"
  },
  "language_info": {
   "codemirror_mode": {
    "name": "ipython",
    "version": 3
   },
   "file_extension": ".py",
   "mimetype": "text/x-python",
   "name": "python",
   "nbconvert_exporter": "python",
   "pygments_lexer": "ipython3",
   "version": "3.6.4"
  }
 },
 "nbformat": 4,
 "nbformat_minor": 2
}
