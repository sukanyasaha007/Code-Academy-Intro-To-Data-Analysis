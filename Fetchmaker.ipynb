{
 "cells": [
  {
   "cell_type": "markdown",
   "metadata": {},
   "source": [
    "# FetchMaker\n",
    "\n",
    "Congratulations! You’ve just started working at the hottest new tech startup, FetchMaker. FetchMaker’s mission is to match up prospective dog owners with their perfect pet. Data on thousands of adoptable dogs are in FetchMaker’s system, and it’s your job to analyze some of that data.\n",
    "\n",
    "Let's start by including a data interface called fetchmaker that will give you access to FetchMaker's dog data.\n",
    "\n",
    "Use import fetchmaker at the top of your script.py file to import the fetchmaker package."
   ]
  },
  {
   "cell_type": "code",
   "execution_count": 1,
   "metadata": {},
   "outputs": [
    {
     "ename": "ModuleNotFoundError",
     "evalue": "No module named 'numpy'",
     "output_type": "error",
     "traceback": [
      "\u001b[0;31m---------------------------------------------------------------------------\u001b[0m",
      "\u001b[0;31mModuleNotFoundError\u001b[0m                       Traceback (most recent call last)",
      "\u001b[0;32m<ipython-input-1-cac8344cb31f>\u001b[0m in \u001b[0;36m<module>\u001b[0;34m()\u001b[0m\n\u001b[0;32m----> 1\u001b[0;31m \u001b[0;32mimport\u001b[0m \u001b[0mnumpy\u001b[0m \u001b[0;32mas\u001b[0m \u001b[0mnp\u001b[0m\u001b[0;34m\u001b[0m\u001b[0m\n\u001b[0m\u001b[1;32m      2\u001b[0m \u001b[0;32mimport\u001b[0m \u001b[0mfetchmaker\u001b[0m\u001b[0;34m\u001b[0m\u001b[0m\n",
      "\u001b[0;31mModuleNotFoundError\u001b[0m: No module named 'numpy'"
     ]
    }
   ],
   "source": [
    "import numpy as np\n",
    "import fetchmaker"
   ]
  },
  {
   "cell_type": "markdown",
   "metadata": {},
   "source": [
    "The attributes that FetchMaker keeps track of are:\n",
    "\n",
    "* weight, an integer representing how heavy a dog is in pounds\n",
    "* tail_length, a float representing tail length in inches\n",
    "* age, in years\n",
    "* color, a String such as \"brown\" or \"grey\"\n",
    "* is_rescue, a boolean 0 or 1\n",
    "\n",
    "The fetchmaker package lets you access this data for a specific breed of dog with the following format:\n",
    "\n",
    "`fetchmaker.get_weight(\"poodle\")`\n",
    "\n",
    "This returns a Pandas DataFrame of the weights of the poodles recorded in the system. The other methods are get_tail_length, get_color, get_age, and get_is_rescue, which all take a breed as an input.\n",
    "\n",
    "Get the tail lengths of all of the \"rottweiler\"s in the system, and store it in a variable called rottweiler_tl.\n",
    "3.\n",
    "\n",
    "Print out the mean of rottweiler_tl and the standard deviation of rottweiler_tl, using np.mean and np.std."
   ]
  },
  {
   "cell_type": "code",
   "execution_count": 2,
   "metadata": {},
   "outputs": [
    {
     "ename": "NameError",
     "evalue": "name 'fetchmaker' is not defined",
     "output_type": "error",
     "traceback": [
      "\u001b[0;31m---------------------------------------------------------------------------\u001b[0m",
      "\u001b[0;31mNameError\u001b[0m                                 Traceback (most recent call last)",
      "\u001b[0;32m<ipython-input-2-290969ba035a>\u001b[0m in \u001b[0;36m<module>\u001b[0;34m()\u001b[0m\n\u001b[0;32m----> 1\u001b[0;31m \u001b[0mrottweiler_tl\u001b[0m \u001b[0;34m=\u001b[0m \u001b[0mfetchmaker\u001b[0m\u001b[0;34m.\u001b[0m\u001b[0mget_tail_length\u001b[0m\u001b[0;34m(\u001b[0m\u001b[0;34m'rottweiler'\u001b[0m\u001b[0;34m)\u001b[0m\u001b[0;34m\u001b[0m\u001b[0m\n\u001b[0m\u001b[1;32m      2\u001b[0m \u001b[0;34m\u001b[0m\u001b[0m\n\u001b[1;32m      3\u001b[0m \u001b[0mprint\u001b[0m\u001b[0;34m(\u001b[0m\u001b[0mrottweiler_tl\u001b[0m\u001b[0;34m)\u001b[0m\u001b[0;34m\u001b[0m\u001b[0m\n\u001b[1;32m      4\u001b[0m \u001b[0mprint\u001b[0m\u001b[0;34m(\u001b[0m\u001b[0mnp\u001b[0m\u001b[0;34m.\u001b[0m\u001b[0mmean\u001b[0m\u001b[0;34m(\u001b[0m\u001b[0mrottweiler_tl\u001b[0m\u001b[0;34m)\u001b[0m\u001b[0;34m)\u001b[0m\u001b[0;34m\u001b[0m\u001b[0m\n\u001b[1;32m      5\u001b[0m \u001b[0mprint\u001b[0m\u001b[0;34m(\u001b[0m\u001b[0mnp\u001b[0m\u001b[0;34m.\u001b[0m\u001b[0mstd\u001b[0m\u001b[0;34m(\u001b[0m\u001b[0mrottweiler_tl\u001b[0m\u001b[0;34m)\u001b[0m\u001b[0;34m)\u001b[0m\u001b[0;34m\u001b[0m\u001b[0m\n",
      "\u001b[0;31mNameError\u001b[0m: name 'fetchmaker' is not defined"
     ]
    }
   ],
   "source": [
    "rottweiler_tl = fetchmaker.get_tail_length('rottweiler')\n",
    "\n",
    "print(rottweiler_tl)\n",
    "print(np.mean(rottweiler_tl))\n",
    "print(np.std(rottweiler_tl))"
   ]
  },
  {
   "cell_type": "markdown",
   "metadata": {},
   "source": [
    "Over the years, we have seen that we expect 8% of dogs in the FetchMaker system to be rescues. We want to know if whippets are significantly more or less likely to be a rescue.\n",
    "\n",
    "Store the is_rescue values for \"whippet\"s in a variable called whippet_rescue."
   ]
  },
  {
   "cell_type": "code",
   "execution_count": 3,
   "metadata": {},
   "outputs": [
    {
     "ename": "NameError",
     "evalue": "name 'fetchmaker' is not defined",
     "output_type": "error",
     "traceback": [
      "\u001b[0;31m---------------------------------------------------------------------------\u001b[0m",
      "\u001b[0;31mNameError\u001b[0m                                 Traceback (most recent call last)",
      "\u001b[0;32m<ipython-input-3-e7b864697214>\u001b[0m in \u001b[0;36m<module>\u001b[0;34m()\u001b[0m\n\u001b[0;32m----> 1\u001b[0;31m \u001b[0mwhippet_rescue\u001b[0m \u001b[0;34m=\u001b[0m \u001b[0mfetchmaker\u001b[0m\u001b[0;34m.\u001b[0m\u001b[0mget_is_rescue\u001b[0m\u001b[0;34m(\u001b[0m\u001b[0;34m'whippet'\u001b[0m\u001b[0;34m)\u001b[0m\u001b[0;34m\u001b[0m\u001b[0m\n\u001b[0m\u001b[1;32m      2\u001b[0m \u001b[0mprint\u001b[0m\u001b[0;34m(\u001b[0m\u001b[0mwhippet_rescue\u001b[0m\u001b[0;34m)\u001b[0m\u001b[0;34m\u001b[0m\u001b[0m\n\u001b[1;32m      3\u001b[0m \u001b[0;34m\u001b[0m\u001b[0m\n\u001b[1;32m      4\u001b[0m \u001b[0mnum_whippet_rescues\u001b[0m \u001b[0;34m=\u001b[0m \u001b[0mnp\u001b[0m\u001b[0;34m.\u001b[0m\u001b[0mcount_nonzero\u001b[0m\u001b[0;34m(\u001b[0m\u001b[0mwhippet_rescue\u001b[0m \u001b[0;34m==\u001b[0m \u001b[0;36m1\u001b[0m\u001b[0;34m)\u001b[0m\u001b[0;34m\u001b[0m\u001b[0m\n\u001b[1;32m      5\u001b[0m \u001b[0;34m\u001b[0m\u001b[0m\n",
      "\u001b[0;31mNameError\u001b[0m: name 'fetchmaker' is not defined"
     ]
    }
   ],
   "source": [
    "whippet_rescue = fetchmaker.get_is_rescue('whippet')\n",
    "print(whippet_rescue)\n",
    "\n",
    "num_whippet_rescues = np.count_nonzero(whippet_rescue == 1)\n",
    "\n",
    "num_whippets = np.size(whippet_rescue)\n",
    "\n",
    "print(num_whippets)"
   ]
  },
  {
   "cell_type": "markdown",
   "metadata": {},
   "source": [
    "Use a binomial test to test the number of whippet rescues, num_whippet_rescues, against our expected percentage, 8%.\n",
    "\n",
    "Remember to import the binomial test by using from scipy.stats import binom_test."
   ]
  },
  {
   "cell_type": "code",
   "execution_count": 4,
   "metadata": {},
   "outputs": [
    {
     "ename": "ModuleNotFoundError",
     "evalue": "No module named 'scipy'",
     "output_type": "error",
     "traceback": [
      "\u001b[0;31m---------------------------------------------------------------------------\u001b[0m",
      "\u001b[0;31mModuleNotFoundError\u001b[0m                       Traceback (most recent call last)",
      "\u001b[0;32m<ipython-input-4-886cca346049>\u001b[0m in \u001b[0;36m<module>\u001b[0;34m()\u001b[0m\n\u001b[0;32m----> 1\u001b[0;31m \u001b[0;32mfrom\u001b[0m \u001b[0mscipy\u001b[0m\u001b[0;34m.\u001b[0m\u001b[0mstats\u001b[0m \u001b[0;32mimport\u001b[0m \u001b[0mbinom_test\u001b[0m\u001b[0;34m\u001b[0m\u001b[0m\n\u001b[0m\u001b[1;32m      2\u001b[0m \u001b[0mpval\u001b[0m \u001b[0;34m=\u001b[0m \u001b[0mbinom_test\u001b[0m\u001b[0;34m(\u001b[0m\u001b[0mnum_whippets\u001b[0m\u001b[0;34m,\u001b[0m \u001b[0mn\u001b[0m\u001b[0;34m=\u001b[0m\u001b[0;36m10000\u001b[0m\u001b[0;34m,\u001b[0m \u001b[0mp\u001b[0m\u001b[0;34m=\u001b[0m\u001b[0;36m0.08\u001b[0m\u001b[0;34m)\u001b[0m\u001b[0;34m\u001b[0m\u001b[0m\n\u001b[1;32m      3\u001b[0m \u001b[0mprint\u001b[0m\u001b[0;34m(\u001b[0m\u001b[0mpval\u001b[0m\u001b[0;34m)\u001b[0m\u001b[0;34m\u001b[0m\u001b[0m\n",
      "\u001b[0;31mModuleNotFoundError\u001b[0m: No module named 'scipy'"
     ]
    }
   ],
   "source": [
    "from scipy.stats import binom_test\n",
    "pval = binom_test(num_whippets, n=10000, p=0.08)\n",
    "print(pval)"
   ]
  },
  {
   "cell_type": "markdown",
   "metadata": {},
   "source": [
    "Three of our most popular mid-sized dog breeds are whippets, terriers, and pitbulls. Is there a significant difference in the average weights of these three dog breeds? Perform a comparative numerical test to determine if there is a significant difference."
   ]
  },
  {
   "cell_type": "code",
   "execution_count": 5,
   "metadata": {},
   "outputs": [
    {
     "ename": "NameError",
     "evalue": "name 'fetchmaker' is not defined",
     "output_type": "error",
     "traceback": [
      "\u001b[0;31m---------------------------------------------------------------------------\u001b[0m",
      "\u001b[0;31mNameError\u001b[0m                                 Traceback (most recent call last)",
      "\u001b[0;32m<ipython-input-5-24fc2e61b4f6>\u001b[0m in \u001b[0;36m<module>\u001b[0;34m()\u001b[0m\n\u001b[0;32m----> 1\u001b[0;31m \u001b[0mwhippet_avg_weight\u001b[0m \u001b[0;34m=\u001b[0m \u001b[0mfetchmaker\u001b[0m\u001b[0;34m.\u001b[0m\u001b[0mget_weight\u001b[0m\u001b[0;34m(\u001b[0m\u001b[0;34m'whippet'\u001b[0m\u001b[0;34m)\u001b[0m\u001b[0;34m\u001b[0m\u001b[0m\n\u001b[0m\u001b[1;32m      2\u001b[0m \u001b[0mterrier_avg_weight\u001b[0m \u001b[0;34m=\u001b[0m \u001b[0mfetchmaker\u001b[0m\u001b[0;34m.\u001b[0m\u001b[0mget_weight\u001b[0m\u001b[0;34m(\u001b[0m\u001b[0;34m'terrier'\u001b[0m\u001b[0;34m)\u001b[0m\u001b[0;34m\u001b[0m\u001b[0m\n\u001b[1;32m      3\u001b[0m \u001b[0mpitbull_avg_weight\u001b[0m \u001b[0;34m=\u001b[0m \u001b[0mfetchmaker\u001b[0m\u001b[0;34m.\u001b[0m\u001b[0mget_weight\u001b[0m\u001b[0;34m(\u001b[0m\u001b[0;34m'pitbull'\u001b[0m\u001b[0;34m)\u001b[0m\u001b[0;34m\u001b[0m\u001b[0m\n\u001b[1;32m      4\u001b[0m \u001b[0mfstat\u001b[0m\u001b[0;34m,\u001b[0m \u001b[0mpval\u001b[0m \u001b[0;34m=\u001b[0m \u001b[0mf_oneway\u001b[0m\u001b[0;34m(\u001b[0m\u001b[0mwhippet_avg_weight\u001b[0m\u001b[0;34m,\u001b[0m\u001b[0mterrier_avg_weight\u001b[0m\u001b[0;34m,\u001b[0m\u001b[0mpitbull_avg_weight\u001b[0m\u001b[0;34m)\u001b[0m\u001b[0;34m\u001b[0m\u001b[0m\n\u001b[1;32m      5\u001b[0m \u001b[0mprint\u001b[0m\u001b[0;34m(\u001b[0m\u001b[0mpval\u001b[0m\u001b[0;34m)\u001b[0m\u001b[0;34m\u001b[0m\u001b[0m\n",
      "\u001b[0;31mNameError\u001b[0m: name 'fetchmaker' is not defined"
     ]
    }
   ],
   "source": [
    "whippet_avg_weight = fetchmaker.get_weight('whippet')\n",
    "terrier_avg_weight = fetchmaker.get_weight('terrier')\n",
    "pitbull_avg_weight = fetchmaker.get_weight('pitbull')\n",
    "fstat, pval = f_oneway(whippet_avg_weight,terrier_avg_weight,pitbull_avg_weight)\n",
    "print(pval)"
   ]
  },
  {
   "cell_type": "markdown",
   "metadata": {},
   "source": [
    "Now, perform another test to determine which of the pairs of these dog breeds differ from each other."
   ]
  },
  {
   "cell_type": "code",
   "execution_count": 6,
   "metadata": {},
   "outputs": [
    {
     "ename": "ModuleNotFoundError",
     "evalue": "No module named 'statsmodels'",
     "output_type": "error",
     "traceback": [
      "\u001b[0;31m---------------------------------------------------------------------------\u001b[0m",
      "\u001b[0;31mModuleNotFoundError\u001b[0m                       Traceback (most recent call last)",
      "\u001b[0;32m<ipython-input-6-5a06ee7f7782>\u001b[0m in \u001b[0;36m<module>\u001b[0;34m()\u001b[0m\n\u001b[0;32m----> 1\u001b[0;31m \u001b[0;32mfrom\u001b[0m \u001b[0mstatsmodels\u001b[0m\u001b[0;34m.\u001b[0m\u001b[0mstats\u001b[0m\u001b[0;34m.\u001b[0m\u001b[0mmulticomp\u001b[0m \u001b[0;32mimport\u001b[0m \u001b[0mpairwise_tukeyhsd\u001b[0m\u001b[0;34m\u001b[0m\u001b[0m\n\u001b[0m\u001b[1;32m      2\u001b[0m \u001b[0;34m\u001b[0m\u001b[0m\n\u001b[1;32m      3\u001b[0m \u001b[0mv\u001b[0m \u001b[0;34m=\u001b[0m \u001b[0mnp\u001b[0m\u001b[0;34m.\u001b[0m\u001b[0mconcatenate\u001b[0m\u001b[0;34m(\u001b[0m\u001b[0;34m[\u001b[0m\u001b[0mwhippet_avg_weight\u001b[0m\u001b[0;34m,\u001b[0m \u001b[0mterrier_avg_weight\u001b[0m\u001b[0;34m,\u001b[0m \u001b[0mpitbull_avg_weight\u001b[0m\u001b[0;34m]\u001b[0m\u001b[0;34m)\u001b[0m\u001b[0;34m\u001b[0m\u001b[0m\n\u001b[1;32m      4\u001b[0m \u001b[0mlabels\u001b[0m \u001b[0;34m=\u001b[0m \u001b[0;34m[\u001b[0m\u001b[0;34m'whippet weight'\u001b[0m\u001b[0;34m]\u001b[0m \u001b[0;34m*\u001b[0m \u001b[0mlen\u001b[0m\u001b[0;34m(\u001b[0m\u001b[0mwhippet_avg_weight\u001b[0m\u001b[0;34m)\u001b[0m \u001b[0;34m+\u001b[0m \u001b[0;34m[\u001b[0m\u001b[0;34m'terrier weight'\u001b[0m\u001b[0;34m]\u001b[0m \u001b[0;34m*\u001b[0m \u001b[0mlen\u001b[0m\u001b[0;34m(\u001b[0m\u001b[0mterrier_avg_weight\u001b[0m\u001b[0;34m)\u001b[0m \u001b[0;34m+\u001b[0m \u001b[0;34m[\u001b[0m\u001b[0;34m'pitbull weight'\u001b[0m\u001b[0;34m]\u001b[0m \u001b[0;34m*\u001b[0m \u001b[0mlen\u001b[0m\u001b[0;34m(\u001b[0m\u001b[0mpitbull_avg_weight\u001b[0m\u001b[0;34m)\u001b[0m\u001b[0;34m\u001b[0m\u001b[0m\n\u001b[1;32m      5\u001b[0m \u001b[0;34m\u001b[0m\u001b[0m\n",
      "\u001b[0;31mModuleNotFoundError\u001b[0m: No module named 'statsmodels'"
     ]
    }
   ],
   "source": [
    "from statsmodels.stats.multicomp import pairwise_tukeyhsd\n",
    "\n",
    "v = np.concatenate([whippet_avg_weight, terrier_avg_weight, pitbull_avg_weight])\n",
    "labels = ['whippet weight'] * len(whippet_avg_weight) + ['terrier weight'] * len(terrier_avg_weight) + ['pitbull weight'] * len(pitbull_avg_weight)\n",
    "\n",
    "tukey_results = pairwise_tukeyhsd(v, labels, 0.05)\n",
    "print(tukey_results)"
   ]
  },
  {
   "cell_type": "markdown",
   "metadata": {},
   "source": [
    "You can get the number of occurrences of brown poodles by using np.count_nonzero(poodle_colors == \"brown\").\n",
    "\n",
    "Use this function to build a Chi Square contingency table, called color_table, with the following structure:\n",
    "\n",
    "<table>\n",
    "    <tr><th></th><th>Poodle</th><th>Shih Tzu</th></tr>\n",
    "    <tr><td>Black</td><td>x</td><td>x</td></tr>\n",
    "    <tr><td>Brown</td><td>x</td><td>x</td></tr>\n",
    "    <tr><td>Gold</td><td>x</td><td>x</td></tr>\n",
    "    <tr><td>Grey</td><td>x</td><td>x</td></tr>\n",
    "    <tr><td>White</td><td>x</td><td>x</td></tr>\n",
    "</table>\n",
    "\n",
    "Fill in the \"x\" entries with the number of each poodle or shih tzu with the specified color.\n",
    "\n",
    "Feed your color_table into SciPy's Chi Square test, save the p-value and print it out.\n",
    "\n",
    "Is there a significant difference?"
   ]
  },
  {
   "cell_type": "code",
   "execution_count": null,
   "metadata": {},
   "outputs": [],
   "source": [
    "black_poodle = np.count_nonzero(poodle_colors == \"black\")\n",
    "brown_poodle = np.count_nonzero(poodle_colors == \"brown\")\n",
    "gold_poodle = np.count_nonzero(poodle_colors == \"gold\")\n",
    "grey_poodle = np.count_nonzero(poodle_colors == \"grey\")\n",
    "white_poodle = np.count_nonzero(poodle_colors == \"white\")\n",
    "black_shihtzu = np.count_nonzero(shihtzu_colors == \"black\")\n",
    "brown_shihtzu = np.count_nonzero(shihtzu_colors == \"brown\")\n",
    "gold_shihtzu = np.count_nonzero(shihtzu_colors == \"gold\")\n",
    "grey_shihtzu = np.count_nonzero(shihtzu_colors == \"grey\")\n",
    "white_shihtzu = np.count_nonzero(shihtzu_colors == \"white\")\n",
    "\n",
    "color_table = [ [black_poodle, black_shihtzu],\n",
    "                [brown_poodle, brown_shihtzu],\n",
    "                [gold_poodle, gold_shihtzu],\n",
    "                [grey_poodle, grey_shihtzu],\n",
    "              \t[white_poodle, white_shihtzu] ]\n",
    "print(color_table)"
   ]
  }
 ],
 "metadata": {
  "kernelspec": {
   "display_name": "Python 3",
   "language": "python",
   "name": "python3"
  },
  "language_info": {
   "codemirror_mode": {
    "name": "ipython",
    "version": 3
   },
   "file_extension": ".py",
   "mimetype": "text/x-python",
   "name": "python",
   "nbconvert_exporter": "python",
   "pygments_lexer": "ipython3",
   "version": "3.6.4"
  }
 },
 "nbformat": 4,
 "nbformat_minor": 2
}
